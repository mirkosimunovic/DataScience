{
 "cells": [
  {
   "cell_type": "code",
   "execution_count": 109,
   "metadata": {},
   "outputs": [],
   "source": [
    "import json\n",
    "import numpy as np\n",
    "import pandas as pd\n",
    "import seaborn as sns\n",
    "import matplotlib.pyplot as plt"
   ]
  },
  {
   "cell_type": "code",
   "execution_count": 110,
   "metadata": {},
   "outputs": [],
   "source": [
    "with open('dataset.json') as jsonfile:\n",
    "    data = json.load(jsonfile)\n"
   ]
  },
  {
   "cell_type": "code",
   "execution_count": 111,
   "metadata": {},
   "outputs": [
    {
     "data": {
      "text/plain": [
       "{'browser': 'Firefox',\n",
       " 'os': 'Ubuntu',\n",
       " 'locale': 'ru_RU',\n",
       " 'user_id': 105,\n",
       " 'gender': 'm',\n",
       " 'location': 'USA/Chicago',\n",
       " 'sites': [{'site': 'mail.google.com', 'length': 50},\n",
       "  {'site': 'toptal.com', 'length': 132},\n",
       "  {'site': 'slack.com', 'length': 65},\n",
       "  {'site': 'lenta.ru', 'length': 59},\n",
       "  {'site': 'youtube.com', 'length': 67},\n",
       "  {'site': 'chitay-knigi.ru', 'length': 108}],\n",
       " 'time': '09:03:00',\n",
       " 'date': '2017-01-08'}"
      ]
     },
     "execution_count": 111,
     "metadata": {},
     "output_type": "execute_result"
    }
   ],
   "source": [
    "data[0]"
   ]
  },
  {
   "cell_type": "code",
   "execution_count": 129,
   "metadata": {},
   "outputs": [],
   "source": [
    "sites = []\n",
    "for dat in data:\n",
    "    for site in dat['sites']:\n",
    "        sites.append(site['site'])\n"
   ]
  },
  {
   "cell_type": "code",
   "execution_count": 130,
   "metadata": {},
   "outputs": [
    {
     "name": "stdout",
     "output_type": "stream",
     "text": [
      "There are 11131 unique web sites in the data set\n"
     ]
    }
   ],
   "source": [
    "sites_df = pd.DataFrame({'Sites':sites})\n",
    "print(\"There are\",len(sites_df.Sites.unique()),\"unique web sites in the data set\")\n"
   ]
  },
  {
   "cell_type": "code",
   "execution_count": 157,
   "metadata": {},
   "outputs": [],
   "source": [
    "df = pd.DataFrame.from_dict(data)"
   ]
  },
  {
   "cell_type": "code",
   "execution_count": 158,
   "metadata": {},
   "outputs": [
    {
     "data": {
      "text/plain": [
       "browser     0\n",
       "os          0\n",
       "locale      0\n",
       "user_id     0\n",
       "gender      0\n",
       "location    0\n",
       "sites       0\n",
       "time        0\n",
       "date        0\n",
       "dtype: int64"
      ]
     },
     "execution_count": 158,
     "metadata": {},
     "output_type": "execute_result"
    }
   ],
   "source": [
    "df.isnull().sum()"
   ]
  },
  {
   "cell_type": "code",
   "execution_count": 159,
   "metadata": {},
   "outputs": [
    {
     "data": {
      "text/plain": [
       "browser             object\n",
       "os                  object\n",
       "locale              object\n",
       "user_id              int64\n",
       "gender              object\n",
       "location            object\n",
       "sites               object\n",
       "time                object\n",
       "date                object\n",
       "dtime       datetime64[ns]\n",
       "dtype: object"
      ]
     },
     "execution_count": 159,
     "metadata": {},
     "output_type": "execute_result"
    }
   ],
   "source": [
    "df['dtime'] = pd.to_datetime(df.apply(lambda x: x['date']+' '+x['time'],axis=1))\n",
    "df.dtypes"
   ]
  },
  {
   "cell_type": "code",
   "execution_count": 160,
   "metadata": {},
   "outputs": [
    {
     "data": {
      "text/html": [
       "<div>\n",
       "<style scoped>\n",
       "    .dataframe tbody tr th:only-of-type {\n",
       "        vertical-align: middle;\n",
       "    }\n",
       "\n",
       "    .dataframe tbody tr th {\n",
       "        vertical-align: top;\n",
       "    }\n",
       "\n",
       "    .dataframe thead th {\n",
       "        text-align: right;\n",
       "    }\n",
       "</style>\n",
       "<table border=\"1\" class=\"dataframe\">\n",
       "  <thead>\n",
       "    <tr style=\"text-align: right;\">\n",
       "      <th></th>\n",
       "      <th>browser</th>\n",
       "      <th>os</th>\n",
       "      <th>locale</th>\n",
       "      <th>user_id</th>\n",
       "      <th>gender</th>\n",
       "      <th>location</th>\n",
       "      <th>sites</th>\n",
       "      <th>time</th>\n",
       "      <th>date</th>\n",
       "      <th>dtime</th>\n",
       "    </tr>\n",
       "  </thead>\n",
       "  <tbody>\n",
       "    <tr>\n",
       "      <th>53977</th>\n",
       "      <td>Chrome</td>\n",
       "      <td>Windows 10</td>\n",
       "      <td>de-DE</td>\n",
       "      <td>127</td>\n",
       "      <td>m</td>\n",
       "      <td>New Zealand/Auckland</td>\n",
       "      <td>[{'site': 'mail.google.com', 'length': 44}, {'...</td>\n",
       "      <td>17:12:00</td>\n",
       "      <td>2016-01-14</td>\n",
       "      <td>2016-01-14 17:12:00</td>\n",
       "    </tr>\n",
       "    <tr>\n",
       "      <th>46592</th>\n",
       "      <td>Chrome</td>\n",
       "      <td>Windows 10</td>\n",
       "      <td>en-CA</td>\n",
       "      <td>130</td>\n",
       "      <td>m</td>\n",
       "      <td>New Zealand/Auckland</td>\n",
       "      <td>[{'site': 'booking.com', 'length': 143}, {'sit...</td>\n",
       "      <td>17:22:00</td>\n",
       "      <td>2016-01-14</td>\n",
       "      <td>2016-01-14 17:22:00</td>\n",
       "    </tr>\n",
       "    <tr>\n",
       "      <th>55725</th>\n",
       "      <td>Firefox</td>\n",
       "      <td>Windows 8</td>\n",
       "      <td>en-GB</td>\n",
       "      <td>167</td>\n",
       "      <td>f</td>\n",
       "      <td>China/Shanghai</td>\n",
       "      <td>[{'site': 'toptal.com', 'length': 174}, {'site...</td>\n",
       "      <td>18:15:00</td>\n",
       "      <td>2016-01-14</td>\n",
       "      <td>2016-01-14 18:15:00</td>\n",
       "    </tr>\n",
       "    <tr>\n",
       "      <th>33047</th>\n",
       "      <td>Safari</td>\n",
       "      <td>MacOS</td>\n",
       "      <td>pt-BR</td>\n",
       "      <td>64</td>\n",
       "      <td>m</td>\n",
       "      <td>New Zealand/Auckland</td>\n",
       "      <td>[{'site': 'geotrust.com', 'length': 56}, {'sit...</td>\n",
       "      <td>18:53:00</td>\n",
       "      <td>2016-01-14</td>\n",
       "      <td>2016-01-14 18:53:00</td>\n",
       "    </tr>\n",
       "    <tr>\n",
       "      <th>48677</th>\n",
       "      <td>Chrome</td>\n",
       "      <td>Windows 7</td>\n",
       "      <td>ur-PK</td>\n",
       "      <td>55</td>\n",
       "      <td>f</td>\n",
       "      <td>Australia/Sydney</td>\n",
       "      <td>[{'site': 'youtube.com', 'length': 226}, {'sit...</td>\n",
       "      <td>19:34:00</td>\n",
       "      <td>2016-01-14</td>\n",
       "      <td>2016-01-14 19:34:00</td>\n",
       "    </tr>\n",
       "  </tbody>\n",
       "</table>\n",
       "</div>"
      ],
      "text/plain": [
       "       browser          os locale  user_id gender              location  \\\n",
       "53977   Chrome  Windows 10  de-DE      127      m  New Zealand/Auckland   \n",
       "46592   Chrome  Windows 10  en-CA      130      m  New Zealand/Auckland   \n",
       "55725  Firefox   Windows 8  en-GB      167      f        China/Shanghai   \n",
       "33047   Safari       MacOS  pt-BR       64      m  New Zealand/Auckland   \n",
       "48677   Chrome   Windows 7  ur-PK       55      f      Australia/Sydney   \n",
       "\n",
       "                                                   sites      time  \\\n",
       "53977  [{'site': 'mail.google.com', 'length': 44}, {'...  17:12:00   \n",
       "46592  [{'site': 'booking.com', 'length': 143}, {'sit...  17:22:00   \n",
       "55725  [{'site': 'toptal.com', 'length': 174}, {'site...  18:15:00   \n",
       "33047  [{'site': 'geotrust.com', 'length': 56}, {'sit...  18:53:00   \n",
       "48677  [{'site': 'youtube.com', 'length': 226}, {'sit...  19:34:00   \n",
       "\n",
       "             date               dtime  \n",
       "53977  2016-01-14 2016-01-14 17:12:00  \n",
       "46592  2016-01-14 2016-01-14 17:22:00  \n",
       "55725  2016-01-14 2016-01-14 18:15:00  \n",
       "33047  2016-01-14 2016-01-14 18:53:00  \n",
       "48677  2016-01-14 2016-01-14 19:34:00  "
      ]
     },
     "execution_count": 160,
     "metadata": {},
     "output_type": "execute_result"
    }
   ],
   "source": [
    "df.sort_values('dtime',inplace=True)\n",
    "df.head()"
   ]
  },
  {
   "cell_type": "code",
   "execution_count": 266,
   "metadata": {},
   "outputs": [
    {
     "name": "stdout",
     "output_type": "stream",
     "text": [
      "Joe has only connected from locations: ['France/Paris', 'USA/Chicago', 'Canada/Toronto']\n",
      "Joe only uses browser: ['Firefox', 'Chrome']\n",
      "Joe only uses OS: ['Windows 10', 'Ubuntu']\n"
     ]
    }
   ],
   "source": [
    "print(\"Joe has only connected from locations:\",list(df.loc[df.user_id==0].location.unique()))\n",
    "print(\"Joe only uses browser:\",list(df.loc[df.user_id==0].browser.unique()))\n",
    "print(\"Joe only uses OS:\",list(df.loc[df.user_id==0].os.unique()))"
   ]
  },
  {
   "cell_type": "code",
   "execution_count": 267,
   "metadata": {},
   "outputs": [
    {
     "data": {
      "image/png": "[encoded data removed]",
      "text/plain": [
       "<Figure size 504x360 with 1 Axes>"
      ]
     },
     "metadata": {
      "needs_background": "light"
     },
     "output_type": "display_data"
    }
   ],
   "source": [
    "plt.figure(figsize=(7,5))\n",
    "plt.plot(df.loc[df.user_id==0].dtime.values,df.loc[df.user_id==0].location.values)\n",
    "plt.xticks(rotation=45)\n",
    "plt.title(\"Joe's login location\")\n",
    "plt.show()"
   ]
  },
  {
   "cell_type": "code",
   "execution_count": 268,
   "metadata": {},
   "outputs": [],
   "source": [
    "def get_joe_count(column):\n",
    "    count = df[column].value_counts().mul(0) + df.loc[df.user_id==0][column].value_counts()\n",
    "    order_ind = df[column].value_counts().mul(0).index.values\n",
    "    return count.loc[order_ind]\n",
    "\n",
    "def plot(column):\n",
    "    \n",
    "    width=0.4\n",
    "    tot_joe = df.loc[df.user_id==0][column].value_counts().sum(axis=0)\n",
    "    tot = df[column].value_counts().sum(axis=0)    \n",
    "    \n",
    "    fig,ax = plt.subplots(figsize=(10,6))\n",
    "    get_joe_count(column).div(tot_joe).mul(100).plot(\n",
    "        kind='bar',color='red',label='Joe',ax=ax,position=0,width=width)\n",
    "    df[column].value_counts().div(tot).mul(100).plot(\n",
    "        kind='bar',color='blue',label='All',ax=ax,position=1,width=width)\n",
    "    ax.set_ylabel(\"%\")\n",
    "    ax.legend()\n",
    "    plt.tight_layout()\n",
    "    plt.xticks(rotation=80)\n",
    "    plt.show()    "
   ]
  },
  {
   "cell_type": "code",
   "execution_count": 269,
   "metadata": {},
   "outputs": [
    {
     "data": {
      "image/png": "[encoded data removed]",
      "text/plain": [
       "<Figure size 720x432 with 1 Axes>"
      ]
     },
     "metadata": {
      "needs_background": "light"
     },
     "output_type": "display_data"
    }
   ],
   "source": [
    "plot('location')"
   ]
  },
  {
   "cell_type": "code",
   "execution_count": 270,
   "metadata": {},
   "outputs": [
    {
     "data": {
      "image/png": "[encoded data removed]",
      "text/plain": [
       "<Figure size 720x432 with 1 Axes>"
      ]
     },
     "metadata": {
      "needs_background": "light"
     },
     "output_type": "display_data"
    }
   ],
   "source": [
    "plot('browser')"
   ]
  },
  {
   "cell_type": "code",
   "execution_count": 271,
   "metadata": {},
   "outputs": [
    {
     "data": {
      "image/png": "[encoded data removed]",
      "text/plain": [
       "<Figure size 720x432 with 1 Axes>"
      ]
     },
     "metadata": {
      "needs_background": "light"
     },
     "output_type": "display_data"
    }
   ],
   "source": [
    "plot('os')"
   ]
  },
  {
   "cell_type": "code",
   "execution_count": 272,
   "metadata": {},
   "outputs": [
    {
     "data": {
      "image/png": "[encoded data removed]",
      "text/plain": [
       "<Figure size 720x432 with 1 Axes>"
      ]
     },
     "metadata": {
      "needs_background": "light"
     },
     "output_type": "display_data"
    }
   ],
   "source": [
    "plot('gender')"
   ]
  },
  {
   "cell_type": "code",
   "execution_count": 273,
   "metadata": {},
   "outputs": [
    {
     "data": {
      "image/png": "[encoded data removed]",
      "text/plain": [
       "<Figure size 720x432 with 1 Axes>"
      ]
     },
     "metadata": {
      "needs_background": "light"
     },
     "output_type": "display_data"
    }
   ],
   "source": [
    "plot('locale')"
   ]
  },
  {
   "cell_type": "code",
   "execution_count": 84,
   "metadata": {},
   "outputs": [
    {
     "data": {
      "text/html": [
       "<div>\n",
       "<style scoped>\n",
       "    .dataframe tbody tr th:only-of-type {\n",
       "        vertical-align: middle;\n",
       "    }\n",
       "\n",
       "    .dataframe tbody tr th {\n",
       "        vertical-align: top;\n",
       "    }\n",
       "\n",
       "    .dataframe thead th {\n",
       "        text-align: right;\n",
       "    }\n",
       "</style>\n",
       "<table border=\"1\" class=\"dataframe\">\n",
       "  <thead>\n",
       "    <tr style=\"text-align: right;\">\n",
       "      <th></th>\n",
       "      <th>user_id</th>\n",
       "      <th>sites</th>\n",
       "      <th>time</th>\n",
       "      <th>date</th>\n",
       "      <th>datetime</th>\n",
       "      <th>browser_Chrome</th>\n",
       "      <th>browser_Firefox</th>\n",
       "      <th>browser_Internet Explorer</th>\n",
       "      <th>browser_Safari</th>\n",
       "      <th>os_Debian</th>\n",
       "      <th>...</th>\n",
       "      <th>location_Netherlands/Amsterdam</th>\n",
       "      <th>location_New Zealand/Auckland</th>\n",
       "      <th>location_Russia/Moscow</th>\n",
       "      <th>location_Singapore/Singapore</th>\n",
       "      <th>location_Spain/Madrid</th>\n",
       "      <th>location_UK/London</th>\n",
       "      <th>location_USA/Chicago</th>\n",
       "      <th>location_USA/Miami</th>\n",
       "      <th>location_USA/New York</th>\n",
       "      <th>location_USA/San Francisco</th>\n",
       "    </tr>\n",
       "  </thead>\n",
       "  <tbody>\n",
       "    <tr>\n",
       "      <th>0</th>\n",
       "      <td>105</td>\n",
       "      <td>[{'site': 'mail.google.com', 'length': 50}, {'...</td>\n",
       "      <td>09:03:00</td>\n",
       "      <td>2017-01-08</td>\n",
       "      <td>2017-01-08 09:03:00</td>\n",
       "      <td>0</td>\n",
       "      <td>1</td>\n",
       "      <td>0</td>\n",
       "      <td>0</td>\n",
       "      <td>0</td>\n",
       "      <td>...</td>\n",
       "      <td>0</td>\n",
       "      <td>0</td>\n",
       "      <td>0</td>\n",
       "      <td>0</td>\n",
       "      <td>0</td>\n",
       "      <td>0</td>\n",
       "      <td>1</td>\n",
       "      <td>0</td>\n",
       "      <td>0</td>\n",
       "      <td>0</td>\n",
       "    </tr>\n",
       "    <tr>\n",
       "      <th>1</th>\n",
       "      <td>11</td>\n",
       "      <td>[{'site': 'meduza.org', 'length': 40}, {'site'...</td>\n",
       "      <td>13:57:00</td>\n",
       "      <td>2016-10-05</td>\n",
       "      <td>2016-10-05 13:57:00</td>\n",
       "      <td>0</td>\n",
       "      <td>1</td>\n",
       "      <td>0</td>\n",
       "      <td>0</td>\n",
       "      <td>0</td>\n",
       "      <td>...</td>\n",
       "      <td>0</td>\n",
       "      <td>0</td>\n",
       "      <td>0</td>\n",
       "      <td>0</td>\n",
       "      <td>0</td>\n",
       "      <td>0</td>\n",
       "      <td>1</td>\n",
       "      <td>0</td>\n",
       "      <td>0</td>\n",
       "      <td>0</td>\n",
       "    </tr>\n",
       "    <tr>\n",
       "      <th>2</th>\n",
       "      <td>17</td>\n",
       "      <td>[{'site': 'facebook.net', 'length': 74}, {'sit...</td>\n",
       "      <td>02:06:00</td>\n",
       "      <td>2017-03-28</td>\n",
       "      <td>2017-03-28 02:06:00</td>\n",
       "      <td>1</td>\n",
       "      <td>0</td>\n",
       "      <td>0</td>\n",
       "      <td>0</td>\n",
       "      <td>0</td>\n",
       "      <td>...</td>\n",
       "      <td>0</td>\n",
       "      <td>0</td>\n",
       "      <td>0</td>\n",
       "      <td>1</td>\n",
       "      <td>0</td>\n",
       "      <td>0</td>\n",
       "      <td>0</td>\n",
       "      <td>0</td>\n",
       "      <td>0</td>\n",
       "      <td>0</td>\n",
       "    </tr>\n",
       "    <tr>\n",
       "      <th>3</th>\n",
       "      <td>134</td>\n",
       "      <td>[{'site': 'verisign.com', 'length': 111}, {'si...</td>\n",
       "      <td>21:49:00</td>\n",
       "      <td>2017-06-25</td>\n",
       "      <td>2017-06-25 21:49:00</td>\n",
       "      <td>1</td>\n",
       "      <td>0</td>\n",
       "      <td>0</td>\n",
       "      <td>0</td>\n",
       "      <td>0</td>\n",
       "      <td>...</td>\n",
       "      <td>0</td>\n",
       "      <td>0</td>\n",
       "      <td>0</td>\n",
       "      <td>0</td>\n",
       "      <td>0</td>\n",
       "      <td>0</td>\n",
       "      <td>0</td>\n",
       "      <td>0</td>\n",
       "      <td>0</td>\n",
       "      <td>0</td>\n",
       "    </tr>\n",
       "    <tr>\n",
       "      <th>4</th>\n",
       "      <td>92</td>\n",
       "      <td>[{'site': 'live.com', 'length': 79}, {'site': ...</td>\n",
       "      <td>00:05:00</td>\n",
       "      <td>2016-02-10</td>\n",
       "      <td>2016-02-10 00:05:00</td>\n",
       "      <td>0</td>\n",
       "      <td>1</td>\n",
       "      <td>0</td>\n",
       "      <td>0</td>\n",
       "      <td>0</td>\n",
       "      <td>...</td>\n",
       "      <td>0</td>\n",
       "      <td>0</td>\n",
       "      <td>0</td>\n",
       "      <td>0</td>\n",
       "      <td>0</td>\n",
       "      <td>0</td>\n",
       "      <td>1</td>\n",
       "      <td>0</td>\n",
       "      <td>0</td>\n",
       "      <td>0</td>\n",
       "    </tr>\n",
       "  </tbody>\n",
       "</table>\n",
       "<p>5 rows × 63 columns</p>\n",
       "</div>"
      ],
      "text/plain": [
       "   user_id                                              sites      time  \\\n",
       "0      105  [{'site': 'mail.google.com', 'length': 50}, {'...  09:03:00   \n",
       "1       11  [{'site': 'meduza.org', 'length': 40}, {'site'...  13:57:00   \n",
       "2       17  [{'site': 'facebook.net', 'length': 74}, {'sit...  02:06:00   \n",
       "3      134  [{'site': 'verisign.com', 'length': 111}, {'si...  21:49:00   \n",
       "4       92  [{'site': 'live.com', 'length': 79}, {'site': ...  00:05:00   \n",
       "\n",
       "         date            datetime  browser_Chrome  browser_Firefox  \\\n",
       "0  2017-01-08 2017-01-08 09:03:00               0                1   \n",
       "1  2016-10-05 2016-10-05 13:57:00               0                1   \n",
       "2  2017-03-28 2017-03-28 02:06:00               1                0   \n",
       "3  2017-06-25 2017-06-25 21:49:00               1                0   \n",
       "4  2016-02-10 2016-02-10 00:05:00               0                1   \n",
       "\n",
       "   browser_Internet Explorer  browser_Safari  os_Debian  ...  \\\n",
       "0                          0               0          0  ...   \n",
       "1                          0               0          0  ...   \n",
       "2                          0               0          0  ...   \n",
       "3                          0               0          0  ...   \n",
       "4                          0               0          0  ...   \n",
       "\n",
       "   location_Netherlands/Amsterdam  location_New Zealand/Auckland  \\\n",
       "0                               0                              0   \n",
       "1                               0                              0   \n",
       "2                               0                              0   \n",
       "3                               0                              0   \n",
       "4                               0                              0   \n",
       "\n",
       "   location_Russia/Moscow  location_Singapore/Singapore  \\\n",
       "0                       0                             0   \n",
       "1                       0                             0   \n",
       "2                       0                             1   \n",
       "3                       0                             0   \n",
       "4                       0                             0   \n",
       "\n",
       "   location_Spain/Madrid  location_UK/London  location_USA/Chicago  \\\n",
       "0                      0                   0                     1   \n",
       "1                      0                   0                     1   \n",
       "2                      0                   0                     0   \n",
       "3                      0                   0                     0   \n",
       "4                      0                   0                     1   \n",
       "\n",
       "   location_USA/Miami  location_USA/New York  location_USA/San Francisco  \n",
       "0                   0                      0                           0  \n",
       "1                   0                      0                           0  \n",
       "2                   0                      0                           0  \n",
       "3                   0                      0                           0  \n",
       "4                   0                      0                           0  \n",
       "\n",
       "[5 rows x 63 columns]"
      ]
     },
     "execution_count": 84,
     "metadata": {},
     "output_type": "execute_result"
    }
   ],
   "source": [
    "df_dummies = pd.get_dummies(df,columns=['browser','os','locale','gender','location'])\n",
    "df_dummies.head()"
   ]
  },
  {
   "cell_type": "code",
   "execution_count": null,
   "metadata": {},
   "outputs": [],
   "source": []
  }
 ],
 "metadata": {
  "kernelspec": {
   "display_name": "Python 3",
   "language": "python",
   "name": "python3"
  },
  "language_info": {
   "codemirror_mode": {
    "name": "ipython",
    "version": 3
   },
   "file_extension": ".py",
   "mimetype": "text/x-python",
   "name": "python",
   "nbconvert_exporter": "python",
   "pygments_lexer": "ipython3",
   "version": "3.7.5"
  }
 },
 "nbformat": 4,
 "nbformat_minor": 4
}
